{
 "cells": [
  {
   "cell_type": "code",
   "execution_count": 2,
   "metadata": {},
   "outputs": [],
   "source": [
    "import os\n",
    "import numpy as np\n",
    "import matplotlib.pyplot as plt\n",
    "from PIL import Image\n",
    "import cv2\n",
    "import torch\n",
    "import sys\n",
    "import random\n",
    "from Networks import (\n",
    "    DummySteerModel,\n",
    "    SteerNN\n",
    ")\n",
    "import pickle\n",
    "import torchvision.models as models\n",
    "\n",
    "sys.path.append('./_out/steerings/')\n",
    "from steer001 import *\n",
    "from steer002 import *\n",
    "from steer003 import *\n",
    "from steer004 import *\n",
    "from steer005 import *\n",
    "from steer006 import *\n",
    "from steer007 import *\n",
    "from steer008 import *\n",
    "from steer009 import *\n",
    "from steer010 import *\n",
    "from steer011 import *\n",
    "from steer012 import *"
   ]
  },
  {
   "cell_type": "code",
   "execution_count": 3,
   "metadata": {},
   "outputs": [
    {
     "name": "stdout",
     "output_type": "stream",
     "text": [
      "(1, 110)\n",
      "(12, 110)\n"
     ]
    }
   ],
   "source": [
    "#put the steering data all in an array\n",
    "steering001 = np.expand_dims(steering001,0)\n",
    "steering002 = np.expand_dims(steering002,0)\n",
    "steering003 = np.expand_dims(steering003,0)\n",
    "steering004 = np.expand_dims(steering004,0)\n",
    "steering005 = np.expand_dims(steering005,0)\n",
    "steering006 = np.expand_dims(steering006,0)\n",
    "steering007 = np.expand_dims(steering007,0)\n",
    "steering008 = np.expand_dims(steering008,0)\n",
    "steering009 = np.expand_dims(steering009,0)\n",
    "steering010 = np.expand_dims(steering010,0)\n",
    "steering011 = np.expand_dims(steering011,0)\n",
    "steering012 = np.expand_dims(steering012,0)\n",
    "print(steering001.shape)\n",
    "steering_data = np.append(steering001, steering002, axis=0)\n",
    "steering_data = np.append(steering_data, steering003, axis=0)\n",
    "steering_data = np.append(steering_data, steering004, axis=0)\n",
    "steering_data = np.append(steering_data, steering005, axis=0)\n",
    "steering_data = np.append(steering_data, steering006, axis=0)\n",
    "steering_data = np.append(steering_data, steering007, axis=0)\n",
    "steering_data = np.append(steering_data, steering008, axis=0)\n",
    "steering_data = np.append(steering_data, steering009, axis=0)\n",
    "steering_data = np.append(steering_data, steering010, axis=0)\n",
    "steering_data = np.append(steering_data, steering011, axis=0)\n",
    "steering_data = np.append(steering_data, steering012, axis=0)\n",
    "steering_data = steering_data *100\n",
    "print(steering_data.shape)"
   ]
  },
  {
   "cell_type": "code",
   "execution_count": 4,
   "metadata": {},
   "outputs": [
    {
     "name": "stdout",
     "output_type": "stream",
     "text": [
      "./_out/Dataset001/\n",
      "./_out/Dataset002/\n",
      "./_out/Dataset003/\n",
      "./_out/Dataset004/\n",
      "./_out/Dataset005/\n",
      "./_out/Dataset006/\n",
      "./_out/Dataset007/\n",
      "./_out/Dataset008/\n",
      "./_out/Dataset009/\n",
      "./_out/Dataset010/\n",
      "./_out/Dataset011/\n",
      "./_out/Dataset012/\n"
     ]
    }
   ],
   "source": [
    "#put the images and steeings into dicts\n",
    "list_of_image_data = []\n",
    "for j in range(1,13):\n",
    "    path_to_images = './_out/Dataset%03d/' %j\n",
    "    image_paths = os.listdir(path_to_images)\n",
    "    image_paths.sort()\n",
    "    #print(len(image_paths))     #number of images:110\n",
    "    print(path_to_images)\n",
    "    \n",
    "    i = 0\n",
    "    for im in image_paths:\n",
    "        image = torch.from_numpy(np.transpose(cv2.imread(path_to_images+im)[:,:,:3], (2, 0, 1)))\n",
    "        #img = (cv2.imread(path_to_images+im)[:,:,:3])/255\n",
    "        #cv2.imshow(\"image\", img)\n",
    "        #cv2.waitKey(10)\n",
    "        image = image.float()   #convert from int to float\n",
    "        imdict = {\n",
    "            'image': image,\n",
    "            'steer':steering_data[j-1][i]\n",
    "        }\n",
    "        list_of_image_data.append(imdict)\n",
    "        i+=1\n"
   ]
  },
  {
   "cell_type": "code",
   "execution_count": 5,
   "metadata": {},
   "outputs": [
    {
     "name": "stdout",
     "output_type": "stream",
     "text": [
      "1320\n",
      "torch.Size([3, 600, 800])\n",
      "7.332940000000001\n",
      "torch.Size([600, 800, 3])\n"
     ]
    },
    {
     "data": {
      "image/png": "[encoded data removed]",
      "text/plain": [
       "<Figure size 640x480 with 1 Axes>"
      ]
     },
     "metadata": {},
     "output_type": "display_data"
    }
   ],
   "source": [
    "#show an image and its corresponding steering\n",
    "print(len(list_of_image_data))\n",
    "print(list_of_image_data[0][\"image\"].shape)    #size of image: torch.Size([1, 600, 800])\n",
    "print(list_of_image_data[20][\"steer\"])\n",
    "#visualize the image\n",
    "image = (list_of_image_data[20][\"image\"].clone()/255 ).view(3, 600, 800)  \n",
    "image = np.transpose(image,(1,2,0))\n",
    "print(image.shape)\n",
    "plt.imshow(image)\n",
    "plt.show()"
   ]
  },
  {
   "cell_type": "code",
   "execution_count": 6,
   "metadata": {},
   "outputs": [
    {
     "data": {
      "text/plain": [
       "'\\nPATH_TO_IMAGES = \\'./_out/Dataset001/\\'\\nimage_paths = os.listdir(PATH_TO_IMAGES)\\nimage_paths.sort()\\nprint(len(image_paths))     #number of images:189\\n\\ni = 0\\n\\nfor im in image_paths:\\n    image = torch.from_numpy(np.transpose(cv2.imread(PATH_TO_IMAGES+im)[:,:,:1], (2, 0, 1)))\\n    imdict = {\\n        \\'image\\': image,\\n        \\'steer\\':steering001[i]\\n    }\\n    list_of_image_data.append(imdict)\\n    i+=1\\n    \\nprint(list_of_image_data[0][\"image\"].shape)    #size of image: torch.Size([1, 600, 800])\\nprint(list_of_image_data[0][\"steer\"])\\nimage = (list_of_image_data[0][\"image\"].clone() ).view(600, 800)  #visualize the image\\nplt.imshow(image,cmap=\\'gray\\')\\nplt.show()\\n'"
      ]
     },
     "execution_count": 6,
     "metadata": {},
     "output_type": "execute_result"
    }
   ],
   "source": [
    "\"\"\"\n",
    "PATH_TO_IMAGES = './_out/Dataset001/'\n",
    "image_paths = os.listdir(PATH_TO_IMAGES)\n",
    "image_paths.sort()\n",
    "print(len(image_paths))     #number of images:189\n",
    "\n",
    "i = 0\n",
    "\n",
    "for im in image_paths:\n",
    "    image = torch.from_numpy(np.transpose(cv2.imread(PATH_TO_IMAGES+im)[:,:,:1], (2, 0, 1)))\n",
    "    imdict = {\n",
    "        'image': image,\n",
    "        'steer':steering001[i]\n",
    "    }\n",
    "    list_of_image_data.append(imdict)\n",
    "    i+=1\n",
    "    \n",
    "print(list_of_image_data[0][\"image\"].shape)    #size of image: torch.Size([1, 600, 800])\n",
    "print(list_of_image_data[0][\"steer\"])\n",
    "image = (list_of_image_data[0][\"image\"].clone() ).view(600, 800)  #visualize the image\n",
    "plt.imshow(image,cmap='gray')\n",
    "plt.show()\n",
    "\"\"\""
   ]
  },
  {
   "cell_type": "code",
   "execution_count": 7,
   "metadata": {},
   "outputs": [],
   "source": [
    "def num_in_range(lst,small,large):\n",
    "    length = len(lst)\n",
    "    num = 0\n",
    "    for i in range(length):\n",
    "        if (lst[i]['steer']>= small) & (lst[i]['steer']<= large):\n",
    "            num += 1\n",
    "    return num"
   ]
  },
  {
   "cell_type": "code",
   "execution_count": 8,
   "metadata": {},
   "outputs": [
    {
     "name": "stdout",
     "output_type": "stream",
     "text": [
      "turning left 425\n",
      "going straight 460\n",
      "turning right 435\n"
     ]
    }
   ],
   "source": [
    "#list_of_image_data.sort(key=lambda k: (k.get('steer', 0))) #sort the list according to 'steer'\n",
    "print(\"turning left\", num_in_range(list_of_image_data,-100,-4))\n",
    "print(\"going straight\", num_in_range(list_of_image_data,-4,4))\n",
    "print(\"turning right\", num_in_range(list_of_image_data,4,100))"
   ]
  },
  {
   "cell_type": "code",
   "execution_count": 9,
   "metadata": {},
   "outputs": [
    {
     "name": "stdout",
     "output_type": "stream",
     "text": [
      "-0.8715229999999999\n",
      "length of training dataset 1100\n",
      "length of validation dataset 220\n",
      "-0.8715229999999999\n",
      "-0.48025362199999994\n"
     ]
    }
   ],
   "source": [
    "random.shuffle(list_of_image_data)\n",
    "print(list_of_image_data[0]['steer'])\n",
    "train_dataset = list_of_image_data[:1100]\n",
    "val_dataset = list_of_image_data[1100:]\n",
    "print(\"length of training dataset\", len(train_dataset))\n",
    "print(\"length of validation dataset\", len(val_dataset))\n",
    "print(train_dataset[0]['steer'])\n",
    "print(val_dataset[0]['steer'])"
   ]
  },
  {
   "cell_type": "code",
   "execution_count": 10,
   "metadata": {},
   "outputs": [],
   "source": [
    "hparams = {\n",
    "    \"learning_rate\": 0.9e-3,\n",
    "    \"batch_size\": 50,\n",
    "}  "
   ]
  },
  {
   "cell_type": "code",
   "execution_count": 11,
   "metadata": {},
   "outputs": [
    {
     "data": {
      "text/plain": [
       "tensor([[-0.4498]], grad_fn=<AddmmBackward>)"
      ]
     },
     "execution_count": 11,
     "metadata": {},
     "output_type": "execute_result"
    }
   ],
   "source": [
    "#test with one image before training\n",
    "steer_model = SteerNN(hparams)\n",
    "#print(list_of_image_data[0]['image'])\n",
    "steer_model(list_of_image_data[0]['image'])"
   ]
  },
  {
   "cell_type": "code",
   "execution_count": 12,
   "metadata": {
    "scrolled": false
   },
   "outputs": [
    {
     "name": "stderr",
     "output_type": "stream",
     "text": [
      "GPU available: False, used: False\n",
      "No environment variable for node rank defined. Set as 0.\n",
      "/home/melina/anaconda3/envs/i2dl/lib/python3.7/site-packages/pytorch_lightning/utilities/distributed.py:23: RuntimeWarning: You have defined a `val_dataloader()` and have defined a `validation_step()`, you may also want to define `validation_epoch_end()` for accumulating stats.\n",
      "  warnings.warn(*args, **kwargs)\n",
      "/home/melina/anaconda3/envs/i2dl/lib/python3.7/site-packages/pytorch_lightning/utilities/distributed.py:23: UserWarning: The dataloader, val dataloader 0, does not have many workers which may be a bottleneck. Consider increasing the value of the `num_workers` argument` in the `DataLoader` init to improve performance.\n",
      "  warnings.warn(*args, **kwargs)\n"
     ]
    },
    {
     "data": {
      "application/vnd.jupyter.widget-view+json": {
       "model_id": "",
       "version_major": 2,
       "version_minor": 0
      },
      "text/plain": [
       "HBox(children=(FloatProgress(value=1.0, bar_style='info', description='Validation sanity check', layout=Layout…"
      ]
     },
     "metadata": {},
     "output_type": "display_data"
    },
    {
     "name": "stdout",
     "output_type": "stream",
     "text": [
      "validation loss tensor(114.0325, dtype=torch.float64)\n",
      "validation loss tensor(197.2120, dtype=torch.float64)\n",
      "tensor(155.6223, dtype=torch.float64)\n",
      "\r"
     ]
    },
    {
     "name": "stderr",
     "output_type": "stream",
     "text": [
      "/home/melina/anaconda3/envs/i2dl/lib/python3.7/site-packages/pytorch_lightning/utilities/distributed.py:23: UserWarning: The dataloader, train dataloader, does not have many workers which may be a bottleneck. Consider increasing the value of the `num_workers` argument` in the `DataLoader` init to improve performance.\n",
      "  warnings.warn(*args, **kwargs)\n"
     ]
    },
    {
     "data": {
      "application/vnd.jupyter.widget-view+json": {
       "model_id": "339586be1867437494e8b261cf83a715",
       "version_major": 2,
       "version_minor": 0
      },
      "text/plain": [
       "HBox(children=(FloatProgress(value=1.0, bar_style='info', description='Training', layout=Layout(flex='2'), max…"
      ]
     },
     "metadata": {},
     "output_type": "display_data"
    },
    {
     "name": "stdout",
     "output_type": "stream",
     "text": [
      "training loss tensor(92.6353, dtype=torch.float64, grad_fn=<MseLossBackward>)\n",
      "training loss tensor(2768282.9599, dtype=torch.float64, grad_fn=<MseLossBackward>)\n",
      "training loss tensor(62582.8616, dtype=torch.float64, grad_fn=<MseLossBackward>)\n",
      "training loss tensor(8788.1426, dtype=torch.float64, grad_fn=<MseLossBackward>)\n",
      "training loss tensor(13441.8247, dtype=torch.float64, grad_fn=<MseLossBackward>)\n",
      "training loss tensor(13257.0844, dtype=torch.float64, grad_fn=<MseLossBackward>)\n",
      "training loss tensor(8744.2326, dtype=torch.float64, grad_fn=<MseLossBackward>)\n",
      "training loss tensor(3410.6845, dtype=torch.float64, grad_fn=<MseLossBackward>)\n",
      "training loss tensor(282.2092, dtype=torch.float64, grad_fn=<MseLossBackward>)\n",
      "training loss tensor(766.9932, dtype=torch.float64, grad_fn=<MseLossBackward>)\n",
      "training loss tensor(2984.7277, dtype=torch.float64, grad_fn=<MseLossBackward>)\n",
      "training loss tensor(3977.9552, dtype=torch.float64, grad_fn=<MseLossBackward>)\n",
      "training loss tensor(3088.4918, dtype=torch.float64, grad_fn=<MseLossBackward>)\n",
      "training loss tensor(1905.3091, dtype=torch.float64, grad_fn=<MseLossBackward>)\n",
      "training loss tensor(739.1194, dtype=torch.float64, grad_fn=<MseLossBackward>)\n",
      "training loss tensor(116.5297, dtype=torch.float64, grad_fn=<MseLossBackward>)\n",
      "training loss tensor(150.5692, dtype=torch.float64, grad_fn=<MseLossBackward>)\n",
      "training loss tensor(595.3445, dtype=torch.float64, grad_fn=<MseLossBackward>)\n",
      "training loss tensor(1141.4727, dtype=torch.float64, grad_fn=<MseLossBackward>)\n",
      "training loss tensor(1410.4455, dtype=torch.float64, grad_fn=<MseLossBackward>)\n",
      "training loss tensor(1484.1419, dtype=torch.float64, grad_fn=<MseLossBackward>)\n",
      "training loss tensor(1041.8375, dtype=torch.float64, grad_fn=<MseLossBackward>)\n"
     ]
    },
    {
     "data": {
      "application/vnd.jupyter.widget-view+json": {
       "model_id": "",
       "version_major": 2,
       "version_minor": 0
      },
      "text/plain": [
       "HBox(children=(FloatProgress(value=1.0, bar_style='info', description='Validating', layout=Layout(flex='2'), m…"
      ]
     },
     "metadata": {},
     "output_type": "display_data"
    },
    {
     "name": "stdout",
     "output_type": "stream",
     "text": [
      "validation loss tensor(430.2158, dtype=torch.float64)\n",
      "validation loss tensor(437.2962, dtype=torch.float64)\n",
      "validation loss tensor(444.2083, dtype=torch.float64)\n",
      "validation loss tensor(504.1047, dtype=torch.float64)\n",
      "validation loss tensor(288.8313, dtype=torch.float64)\n",
      "tensor(420.9313, dtype=torch.float64)\n"
     ]
    },
    {
     "name": "stderr",
     "output_type": "stream",
     "text": [
      "/home/melina/anaconda3/envs/i2dl/lib/python3.7/site-packages/pytorch_lightning/utilities/distributed.py:23: UserWarning: Did not find hyperparameters at model hparams. Saving checkpoint without hyperparameters.\n",
      "  warnings.warn(*args, **kwargs)\n"
     ]
    },
    {
     "name": "stdout",
     "output_type": "stream",
     "text": [
      "training loss tensor(441.1563, dtype=torch.float64, grad_fn=<MseLossBackward>)\n",
      "training loss tensor(58.1614, dtype=torch.float64, grad_fn=<MseLossBackward>)\n",
      "training loss tensor(189.2446, dtype=torch.float64, grad_fn=<MseLossBackward>)\n",
      "training loss tensor(512.8633, dtype=torch.float64, grad_fn=<MseLossBackward>)\n",
      "training loss tensor(425.3888, dtype=torch.float64, grad_fn=<MseLossBackward>)\n",
      "training loss tensor(278.2944, dtype=torch.float64, grad_fn=<MseLossBackward>)\n",
      "training loss tensor(88.6588, dtype=torch.float64, grad_fn=<MseLossBackward>)\n",
      "training loss tensor(35.8791, dtype=torch.float64, grad_fn=<MseLossBackward>)\n",
      "training loss tensor(33.4942, dtype=torch.float64, grad_fn=<MseLossBackward>)\n",
      "training loss tensor(23.5484, dtype=torch.float64, grad_fn=<MseLossBackward>)\n",
      "training loss tensor(42.1547, dtype=torch.float64, grad_fn=<MseLossBackward>)\n",
      "training loss tensor(55.0662, dtype=torch.float64, grad_fn=<MseLossBackward>)\n",
      "training loss tensor(76.3645, dtype=torch.float64, grad_fn=<MseLossBackward>)\n",
      "training loss tensor(57.5443, dtype=torch.float64, grad_fn=<MseLossBackward>)\n",
      "training loss tensor(43.6048, dtype=torch.float64, grad_fn=<MseLossBackward>)\n",
      "training loss tensor(27.7272, dtype=torch.float64, grad_fn=<MseLossBackward>)\n",
      "training loss tensor(20.0319, dtype=torch.float64, grad_fn=<MseLossBackward>)\n",
      "training loss tensor(36.8548, dtype=torch.float64, grad_fn=<MseLossBackward>)\n",
      "training loss tensor(27.1459, dtype=torch.float64, grad_fn=<MseLossBackward>)\n",
      "training loss tensor(33.2362, dtype=torch.float64, grad_fn=<MseLossBackward>)\n",
      "training loss tensor(25.8937, dtype=torch.float64, grad_fn=<MseLossBackward>)\n",
      "training loss tensor(33.8480, dtype=torch.float64, grad_fn=<MseLossBackward>)\n"
     ]
    },
    {
     "data": {
      "application/vnd.jupyter.widget-view+json": {
       "model_id": "",
       "version_major": 2,
       "version_minor": 0
      },
      "text/plain": [
       "HBox(children=(FloatProgress(value=1.0, bar_style='info', description='Validating', layout=Layout(flex='2'), m…"
      ]
     },
     "metadata": {},
     "output_type": "display_data"
    },
    {
     "name": "stdout",
     "output_type": "stream",
     "text": [
      "validation loss tensor(38.0881, dtype=torch.float64)\n",
      "validation loss tensor(40.3160, dtype=torch.float64)\n",
      "validation loss tensor(30.6191, dtype=torch.float64)\n",
      "validation loss tensor(34.1338, dtype=torch.float64)\n",
      "validation loss tensor(10.9479, dtype=torch.float64)\n",
      "tensor(30.8210, dtype=torch.float64)\n",
      "training loss tensor(27.7340, dtype=torch.float64, grad_fn=<MseLossBackward>)\n",
      "training loss tensor(28.3007, dtype=torch.float64, grad_fn=<MseLossBackward>)\n",
      "training loss tensor(22.5039, dtype=torch.float64, grad_fn=<MseLossBackward>)\n",
      "training loss tensor(22.1867, dtype=torch.float64, grad_fn=<MseLossBackward>)\n",
      "training loss tensor(12.3363, dtype=torch.float64, grad_fn=<MseLossBackward>)\n",
      "training loss tensor(16.3201, dtype=torch.float64, grad_fn=<MseLossBackward>)\n",
      "training loss tensor(17.3330, dtype=torch.float64, grad_fn=<MseLossBackward>)\n",
      "training loss tensor(14.5650, dtype=torch.float64, grad_fn=<MseLossBackward>)\n",
      "training loss tensor(23.6848, dtype=torch.float64, grad_fn=<MseLossBackward>)\n",
      "training loss tensor(8.6261, dtype=torch.float64, grad_fn=<MseLossBackward>)\n",
      "training loss tensor(12.0749, dtype=torch.float64, grad_fn=<MseLossBackward>)\n",
      "training loss tensor(11.4053, dtype=torch.float64, grad_fn=<MseLossBackward>)\n",
      "training loss tensor(12.6328, dtype=torch.float64, grad_fn=<MseLossBackward>)\n",
      "training loss tensor(7.4425, dtype=torch.float64, grad_fn=<MseLossBackward>)\n",
      "training loss tensor(17.5750, dtype=torch.float64, grad_fn=<MseLossBackward>)\n",
      "training loss tensor(11.0299, dtype=torch.float64, grad_fn=<MseLossBackward>)\n",
      "training loss tensor(16.6725, dtype=torch.float64, grad_fn=<MseLossBackward>)\n",
      "training loss tensor(15.9579, dtype=torch.float64, grad_fn=<MseLossBackward>)\n",
      "training loss tensor(12.2045, dtype=torch.float64, grad_fn=<MseLossBackward>)\n",
      "training loss tensor(10.0623, dtype=torch.float64, grad_fn=<MseLossBackward>)\n",
      "training loss tensor(12.9005, dtype=torch.float64, grad_fn=<MseLossBackward>)\n",
      "training loss tensor(10.9107, dtype=torch.float64, grad_fn=<MseLossBackward>)\n"
     ]
    },
    {
     "data": {
      "application/vnd.jupyter.widget-view+json": {
       "model_id": "",
       "version_major": 2,
       "version_minor": 0
      },
      "text/plain": [
       "HBox(children=(FloatProgress(value=1.0, bar_style='info', description='Validating', layout=Layout(flex='2'), m…"
      ]
     },
     "metadata": {},
     "output_type": "display_data"
    },
    {
     "name": "stdout",
     "output_type": "stream",
     "text": [
      "validation loss tensor(11.5597, dtype=torch.float64)\n",
      "validation loss tensor(22.6666, dtype=torch.float64)\n",
      "validation loss tensor(8.5416, dtype=torch.float64)\n",
      "validation loss tensor(18.0525, dtype=torch.float64)\n",
      "validation loss tensor(1.5231, dtype=torch.float64)\n",
      "tensor(12.4687, dtype=torch.float64)\n",
      "training loss tensor(18.3679, dtype=torch.float64, grad_fn=<MseLossBackward>)\n",
      "training loss tensor(10.3241, dtype=torch.float64, grad_fn=<MseLossBackward>)\n",
      "training loss tensor(9.7025, dtype=torch.float64, grad_fn=<MseLossBackward>)\n",
      "training loss tensor(11.1664, dtype=torch.float64, grad_fn=<MseLossBackward>)\n",
      "training loss tensor(9.0939, dtype=torch.float64, grad_fn=<MseLossBackward>)\n",
      "training loss tensor(9.0155, dtype=torch.float64, grad_fn=<MseLossBackward>)\n",
      "training loss tensor(8.0129, dtype=torch.float64, grad_fn=<MseLossBackward>)\n",
      "training loss tensor(7.8421, dtype=torch.float64, grad_fn=<MseLossBackward>)\n",
      "training loss tensor(8.3933, dtype=torch.float64, grad_fn=<MseLossBackward>)\n",
      "training loss tensor(7.5373, dtype=torch.float64, grad_fn=<MseLossBackward>)\n",
      "training loss tensor(11.9152, dtype=torch.float64, grad_fn=<MseLossBackward>)\n",
      "training loss tensor(6.3822, dtype=torch.float64, grad_fn=<MseLossBackward>)\n",
      "training loss tensor(10.0609, dtype=torch.float64, grad_fn=<MseLossBackward>)\n",
      "training loss tensor(10.1536, dtype=torch.float64, grad_fn=<MseLossBackward>)\n",
      "training loss tensor(7.1284, dtype=torch.float64, grad_fn=<MseLossBackward>)\n",
      "training loss tensor(5.0906, dtype=torch.float64, grad_fn=<MseLossBackward>)\n",
      "training loss tensor(9.3881, dtype=torch.float64, grad_fn=<MseLossBackward>)\n",
      "training loss tensor(5.4784, dtype=torch.float64, grad_fn=<MseLossBackward>)\n",
      "training loss tensor(6.8153, dtype=torch.float64, grad_fn=<MseLossBackward>)\n",
      "training loss tensor(7.2692, dtype=torch.float64, grad_fn=<MseLossBackward>)\n",
      "training loss tensor(8.5798, dtype=torch.float64, grad_fn=<MseLossBackward>)\n",
      "training loss tensor(7.9180, dtype=torch.float64, grad_fn=<MseLossBackward>)\n"
     ]
    },
    {
     "data": {
      "application/vnd.jupyter.widget-view+json": {
       "model_id": "",
       "version_major": 2,
       "version_minor": 0
      },
      "text/plain": [
       "HBox(children=(FloatProgress(value=1.0, bar_style='info', description='Validating', layout=Layout(flex='2'), m…"
      ]
     },
     "metadata": {},
     "output_type": "display_data"
    },
    {
     "name": "stdout",
     "output_type": "stream",
     "text": [
      "validation loss tensor(11.3235, dtype=torch.float64)\n",
      "validation loss tensor(13.6063, dtype=torch.float64)\n",
      "validation loss tensor(7.3046, dtype=torch.float64)\n",
      "validation loss tensor(9.6970, dtype=torch.float64)\n",
      "validation loss tensor(1.0574, dtype=torch.float64)\n",
      "tensor(8.5978, dtype=torch.float64)\n",
      "training loss tensor(3.8812, dtype=torch.float64, grad_fn=<MseLossBackward>)\n",
      "training loss tensor(8.4155, dtype=torch.float64, grad_fn=<MseLossBackward>)\n",
      "training loss tensor(7.7638, dtype=torch.float64, grad_fn=<MseLossBackward>)\n",
      "training loss tensor(7.3973, dtype=torch.float64, grad_fn=<MseLossBackward>)\n",
      "training loss tensor(7.4932, dtype=torch.float64, grad_fn=<MseLossBackward>)\n",
      "training loss tensor(9.2989, dtype=torch.float64, grad_fn=<MseLossBackward>)\n",
      "training loss tensor(5.1590, dtype=torch.float64, grad_fn=<MseLossBackward>)\n",
      "training loss tensor(4.8892, dtype=torch.float64, grad_fn=<MseLossBackward>)\n",
      "training loss tensor(5.8848, dtype=torch.float64, grad_fn=<MseLossBackward>)\n",
      "training loss tensor(5.2838, dtype=torch.float64, grad_fn=<MseLossBackward>)\n",
      "training loss tensor(6.2531, dtype=torch.float64, grad_fn=<MseLossBackward>)\n",
      "training loss tensor(3.2510, dtype=torch.float64, grad_fn=<MseLossBackward>)\n",
      "training loss tensor(6.4671, dtype=torch.float64, grad_fn=<MseLossBackward>)\n",
      "training loss tensor(5.0581, dtype=torch.float64, grad_fn=<MseLossBackward>)\n",
      "training loss tensor(8.6219, dtype=torch.float64, grad_fn=<MseLossBackward>)\n",
      "training loss tensor(3.6378, dtype=torch.float64, grad_fn=<MseLossBackward>)\n",
      "training loss tensor(3.4118, dtype=torch.float64, grad_fn=<MseLossBackward>)\n",
      "training loss tensor(4.4217, dtype=torch.float64, grad_fn=<MseLossBackward>)\n",
      "training loss tensor(8.8386, dtype=torch.float64, grad_fn=<MseLossBackward>)\n",
      "training loss tensor(4.8250, dtype=torch.float64, grad_fn=<MseLossBackward>)\n",
      "training loss tensor(4.9685, dtype=torch.float64, grad_fn=<MseLossBackward>)\n",
      "training loss tensor(6.4700, dtype=torch.float64, grad_fn=<MseLossBackward>)\n"
     ]
    },
    {
     "data": {
      "application/vnd.jupyter.widget-view+json": {
       "model_id": "",
       "version_major": 2,
       "version_minor": 0
      },
      "text/plain": [
       "HBox(children=(FloatProgress(value=1.0, bar_style='info', description='Validating', layout=Layout(flex='2'), m…"
      ]
     },
     "metadata": {},
     "output_type": "display_data"
    },
    {
     "name": "stdout",
     "output_type": "stream",
     "text": [
      "validation loss tensor(8.8663, dtype=torch.float64)\n",
      "validation loss tensor(11.7703, dtype=torch.float64)\n",
      "validation loss tensor(5.4148, dtype=torch.float64)\n",
      "validation loss tensor(8.2450, dtype=torch.float64)\n",
      "validation loss tensor(0.7928, dtype=torch.float64)\n",
      "tensor(7.0178, dtype=torch.float64)\n",
      "training loss tensor(4.7895, dtype=torch.float64, grad_fn=<MseLossBackward>)\n",
      "training loss tensor(4.9563, dtype=torch.float64, grad_fn=<MseLossBackward>)\n",
      "training loss tensor(5.6699, dtype=torch.float64, grad_fn=<MseLossBackward>)\n",
      "training loss tensor(5.1392, dtype=torch.float64, grad_fn=<MseLossBackward>)\n",
      "training loss tensor(5.1576, dtype=torch.float64, grad_fn=<MseLossBackward>)\n",
      "training loss tensor(3.8867, dtype=torch.float64, grad_fn=<MseLossBackward>)\n",
      "training loss tensor(5.1825, dtype=torch.float64, grad_fn=<MseLossBackward>)\n",
      "training loss tensor(5.4921, dtype=torch.float64, grad_fn=<MseLossBackward>)\n",
      "training loss tensor(3.0199, dtype=torch.float64, grad_fn=<MseLossBackward>)\n",
      "training loss tensor(3.9885, dtype=torch.float64, grad_fn=<MseLossBackward>)\n",
      "training loss tensor(4.9716, dtype=torch.float64, grad_fn=<MseLossBackward>)\n",
      "training loss tensor(5.7535, dtype=torch.float64, grad_fn=<MseLossBackward>)\n",
      "training loss tensor(7.1261, dtype=torch.float64, grad_fn=<MseLossBackward>)\n",
      "training loss tensor(4.2412, dtype=torch.float64, grad_fn=<MseLossBackward>)\n",
      "training loss tensor(5.1046, dtype=torch.float64, grad_fn=<MseLossBackward>)\n",
      "training loss tensor(4.3047, dtype=torch.float64, grad_fn=<MseLossBackward>)\n",
      "training loss tensor(5.9195, dtype=torch.float64, grad_fn=<MseLossBackward>)\n",
      "training loss tensor(3.4787, dtype=torch.float64, grad_fn=<MseLossBackward>)\n",
      "training loss tensor(4.5085, dtype=torch.float64, grad_fn=<MseLossBackward>)\n",
      "training loss tensor(5.5414, dtype=torch.float64, grad_fn=<MseLossBackward>)\n",
      "training loss tensor(3.4108, dtype=torch.float64, grad_fn=<MseLossBackward>)\n",
      "training loss tensor(3.8710, dtype=torch.float64, grad_fn=<MseLossBackward>)\n"
     ]
    },
    {
     "data": {
      "application/vnd.jupyter.widget-view+json": {
       "model_id": "",
       "version_major": 2,
       "version_minor": 0
      },
      "text/plain": [
       "HBox(children=(FloatProgress(value=1.0, bar_style='info', description='Validating', layout=Layout(flex='2'), m…"
      ]
     },
     "metadata": {},
     "output_type": "display_data"
    },
    {
     "name": "stdout",
     "output_type": "stream",
     "text": [
      "validation loss tensor(8.7633, dtype=torch.float64)\n",
      "validation loss tensor(9.2077, dtype=torch.float64)\n",
      "validation loss tensor(5.0922, dtype=torch.float64)\n",
      "validation loss tensor(6.1942, dtype=torch.float64)\n",
      "validation loss tensor(1.0387, dtype=torch.float64)\n",
      "tensor(6.0592, dtype=torch.float64)\n",
      "training loss tensor(4.9401, dtype=torch.float64, grad_fn=<MseLossBackward>)\n",
      "training loss tensor(6.7624, dtype=torch.float64, grad_fn=<MseLossBackward>)\n",
      "training loss tensor(3.3118, dtype=torch.float64, grad_fn=<MseLossBackward>)\n",
      "training loss tensor(3.4412, dtype=torch.float64, grad_fn=<MseLossBackward>)\n",
      "training loss tensor(4.4257, dtype=torch.float64, grad_fn=<MseLossBackward>)\n",
      "training loss tensor(4.0507, dtype=torch.float64, grad_fn=<MseLossBackward>)\n",
      "training loss tensor(4.1679, dtype=torch.float64, grad_fn=<MseLossBackward>)\n",
      "training loss tensor(4.2582, dtype=torch.float64, grad_fn=<MseLossBackward>)\n",
      "training loss tensor(4.3193, dtype=torch.float64, grad_fn=<MseLossBackward>)\n",
      "training loss tensor(3.5763, dtype=torch.float64, grad_fn=<MseLossBackward>)\n",
      "training loss tensor(3.5191, dtype=torch.float64, grad_fn=<MseLossBackward>)\n",
      "training loss tensor(4.2296, dtype=torch.float64, grad_fn=<MseLossBackward>)\n",
      "training loss tensor(4.0609, dtype=torch.float64, grad_fn=<MseLossBackward>)\n",
      "training loss tensor(3.3822, dtype=torch.float64, grad_fn=<MseLossBackward>)\n",
      "training loss tensor(4.8151, dtype=torch.float64, grad_fn=<MseLossBackward>)\n",
      "training loss tensor(2.3528, dtype=torch.float64, grad_fn=<MseLossBackward>)\n",
      "training loss tensor(4.2811, dtype=torch.float64, grad_fn=<MseLossBackward>)\n",
      "training loss tensor(4.4170, dtype=torch.float64, grad_fn=<MseLossBackward>)\n",
      "training loss tensor(2.7755, dtype=torch.float64, grad_fn=<MseLossBackward>)\n",
      "training loss tensor(4.6936, dtype=torch.float64, grad_fn=<MseLossBackward>)\n",
      "training loss tensor(2.3326, dtype=torch.float64, grad_fn=<MseLossBackward>)\n",
      "training loss tensor(4.2195, dtype=torch.float64, grad_fn=<MseLossBackward>)\n"
     ]
    },
    {
     "data": {
      "application/vnd.jupyter.widget-view+json": {
       "model_id": "",
       "version_major": 2,
       "version_minor": 0
      },
      "text/plain": [
       "HBox(children=(FloatProgress(value=1.0, bar_style='info', description='Validating', layout=Layout(flex='2'), m…"
      ]
     },
     "metadata": {},
     "output_type": "display_data"
    },
    {
     "name": "stdout",
     "output_type": "stream",
     "text": [
      "validation loss tensor(7.8508, dtype=torch.float64)\n",
      "validation loss tensor(8.5479, dtype=torch.float64)\n",
      "validation loss tensor(4.1747, dtype=torch.float64)\n",
      "validation loss tensor(6.0491, dtype=torch.float64)\n",
      "validation loss tensor(0.6535, dtype=torch.float64)\n",
      "tensor(5.4552, dtype=torch.float64)\n",
      "training loss tensor(4.3914, dtype=torch.float64, grad_fn=<MseLossBackward>)\n",
      "training loss tensor(2.3219, dtype=torch.float64, grad_fn=<MseLossBackward>)\n",
      "training loss tensor(3.2253, dtype=torch.float64, grad_fn=<MseLossBackward>)\n",
      "training loss tensor(4.4631, dtype=torch.float64, grad_fn=<MseLossBackward>)\n",
      "training loss tensor(2.7427, dtype=torch.float64, grad_fn=<MseLossBackward>)\n",
      "training loss tensor(2.3364, dtype=torch.float64, grad_fn=<MseLossBackward>)\n",
      "training loss tensor(3.2514, dtype=torch.float64, grad_fn=<MseLossBackward>)\n",
      "training loss tensor(3.4467, dtype=torch.float64, grad_fn=<MseLossBackward>)\n",
      "training loss tensor(3.3403, dtype=torch.float64, grad_fn=<MseLossBackward>)\n",
      "training loss tensor(3.5339, dtype=torch.float64, grad_fn=<MseLossBackward>)\n",
      "training loss tensor(4.8096, dtype=torch.float64, grad_fn=<MseLossBackward>)\n",
      "training loss tensor(3.1374, dtype=torch.float64, grad_fn=<MseLossBackward>)\n",
      "training loss tensor(3.2895, dtype=torch.float64, grad_fn=<MseLossBackward>)\n",
      "training loss tensor(1.8069, dtype=torch.float64, grad_fn=<MseLossBackward>)\n",
      "training loss tensor(2.3394, dtype=torch.float64, grad_fn=<MseLossBackward>)\n",
      "training loss tensor(4.7244, dtype=torch.float64, grad_fn=<MseLossBackward>)\n",
      "training loss tensor(2.4808, dtype=torch.float64, grad_fn=<MseLossBackward>)\n",
      "training loss tensor(4.7542, dtype=torch.float64, grad_fn=<MseLossBackward>)\n",
      "training loss tensor(2.2411, dtype=torch.float64, grad_fn=<MseLossBackward>)\n",
      "training loss tensor(3.2299, dtype=torch.float64, grad_fn=<MseLossBackward>)\n",
      "training loss tensor(4.9504, dtype=torch.float64, grad_fn=<MseLossBackward>)\n",
      "training loss tensor(3.4603, dtype=torch.float64, grad_fn=<MseLossBackward>)\n"
     ]
    },
    {
     "data": {
      "application/vnd.jupyter.widget-view+json": {
       "model_id": "",
       "version_major": 2,
       "version_minor": 0
      },
      "text/plain": [
       "HBox(children=(FloatProgress(value=1.0, bar_style='info', description='Validating', layout=Layout(flex='2'), m…"
      ]
     },
     "metadata": {},
     "output_type": "display_data"
    },
    {
     "name": "stdout",
     "output_type": "stream",
     "text": [
      "validation loss tensor(7.7214, dtype=torch.float64)\n",
      "validation loss tensor(7.1631, dtype=torch.float64)\n",
      "validation loss tensor(4.2460, dtype=torch.float64)\n",
      "validation loss tensor(4.7677, dtype=torch.float64)\n",
      "validation loss tensor(0.7315, dtype=torch.float64)\n",
      "tensor(4.9259, dtype=torch.float64)\n",
      "training loss tensor(1.8080, dtype=torch.float64, grad_fn=<MseLossBackward>)\n",
      "training loss tensor(5.0573, dtype=torch.float64, grad_fn=<MseLossBackward>)\n",
      "training loss tensor(3.6267, dtype=torch.float64, grad_fn=<MseLossBackward>)\n",
      "training loss tensor(3.5934, dtype=torch.float64, grad_fn=<MseLossBackward>)\n",
      "training loss tensor(3.9098, dtype=torch.float64, grad_fn=<MseLossBackward>)\n",
      "training loss tensor(3.4342, dtype=torch.float64, grad_fn=<MseLossBackward>)\n",
      "training loss tensor(4.4100, dtype=torch.float64, grad_fn=<MseLossBackward>)\n",
      "training loss tensor(1.9106, dtype=torch.float64, grad_fn=<MseLossBackward>)\n",
      "training loss tensor(2.3754, dtype=torch.float64, grad_fn=<MseLossBackward>)\n",
      "training loss tensor(1.9448, dtype=torch.float64, grad_fn=<MseLossBackward>)\n",
      "training loss tensor(3.4260, dtype=torch.float64, grad_fn=<MseLossBackward>)\n",
      "training loss tensor(3.0029, dtype=torch.float64, grad_fn=<MseLossBackward>)\n",
      "training loss tensor(2.5995, dtype=torch.float64, grad_fn=<MseLossBackward>)\n",
      "training loss tensor(1.8211, dtype=torch.float64, grad_fn=<MseLossBackward>)\n",
      "training loss tensor(2.2136, dtype=torch.float64, grad_fn=<MseLossBackward>)\n",
      "training loss tensor(2.7313, dtype=torch.float64, grad_fn=<MseLossBackward>)\n",
      "training loss tensor(2.0077, dtype=torch.float64, grad_fn=<MseLossBackward>)\n",
      "training loss tensor(2.7228, dtype=torch.float64, grad_fn=<MseLossBackward>)\n",
      "training loss tensor(3.1543, dtype=torch.float64, grad_fn=<MseLossBackward>)\n",
      "training loss tensor(2.6901, dtype=torch.float64, grad_fn=<MseLossBackward>)\n",
      "training loss tensor(3.2196, dtype=torch.float64, grad_fn=<MseLossBackward>)\n",
      "training loss tensor(2.5228, dtype=torch.float64, grad_fn=<MseLossBackward>)\n"
     ]
    },
    {
     "data": {
      "application/vnd.jupyter.widget-view+json": {
       "model_id": "",
       "version_major": 2,
       "version_minor": 0
      },
      "text/plain": [
       "HBox(children=(FloatProgress(value=1.0, bar_style='info', description='Validating', layout=Layout(flex='2'), m…"
      ]
     },
     "metadata": {},
     "output_type": "display_data"
    },
    {
     "name": "stdout",
     "output_type": "stream",
     "text": [
      "validation loss tensor(7.8757, dtype=torch.float64)\n",
      "validation loss tensor(6.6771, dtype=torch.float64)\n",
      "validation loss tensor(4.2654, dtype=torch.float64)\n",
      "validation loss tensor(4.5121, dtype=torch.float64)\n",
      "validation loss tensor(0.4930, dtype=torch.float64)\n",
      "tensor(4.7647, dtype=torch.float64)\n",
      "training loss tensor(2.0085, dtype=torch.float64, grad_fn=<MseLossBackward>)\n",
      "training loss tensor(3.5687, dtype=torch.float64, grad_fn=<MseLossBackward>)\n",
      "training loss tensor(2.6952, dtype=torch.float64, grad_fn=<MseLossBackward>)\n",
      "training loss tensor(2.4482, dtype=torch.float64, grad_fn=<MseLossBackward>)\n",
      "training loss tensor(2.7894, dtype=torch.float64, grad_fn=<MseLossBackward>)\n",
      "training loss tensor(2.8663, dtype=torch.float64, grad_fn=<MseLossBackward>)\n",
      "training loss tensor(1.3223, dtype=torch.float64, grad_fn=<MseLossBackward>)\n",
      "training loss tensor(2.1114, dtype=torch.float64, grad_fn=<MseLossBackward>)\n",
      "training loss tensor(2.7132, dtype=torch.float64, grad_fn=<MseLossBackward>)\n",
      "training loss tensor(2.9481, dtype=torch.float64, grad_fn=<MseLossBackward>)\n",
      "training loss tensor(2.6894, dtype=torch.float64, grad_fn=<MseLossBackward>)\n",
      "training loss tensor(3.5776, dtype=torch.float64, grad_fn=<MseLossBackward>)\n",
      "training loss tensor(2.7584, dtype=torch.float64, grad_fn=<MseLossBackward>)\n",
      "training loss tensor(1.9475, dtype=torch.float64, grad_fn=<MseLossBackward>)\n",
      "training loss tensor(1.4285, dtype=torch.float64, grad_fn=<MseLossBackward>)\n",
      "training loss tensor(3.3325, dtype=torch.float64, grad_fn=<MseLossBackward>)\n",
      "training loss tensor(2.0572, dtype=torch.float64, grad_fn=<MseLossBackward>)\n",
      "training loss tensor(2.6158, dtype=torch.float64, grad_fn=<MseLossBackward>)\n",
      "training loss tensor(3.0195, dtype=torch.float64, grad_fn=<MseLossBackward>)\n",
      "training loss tensor(2.5807, dtype=torch.float64, grad_fn=<MseLossBackward>)\n",
      "training loss tensor(2.9081, dtype=torch.float64, grad_fn=<MseLossBackward>)\n",
      "training loss tensor(2.8499, dtype=torch.float64, grad_fn=<MseLossBackward>)\n"
     ]
    },
    {
     "data": {
      "application/vnd.jupyter.widget-view+json": {
       "model_id": "",
       "version_major": 2,
       "version_minor": 0
      },
      "text/plain": [
       "HBox(children=(FloatProgress(value=1.0, bar_style='info', description='Validating', layout=Layout(flex='2'), m…"
      ]
     },
     "metadata": {},
     "output_type": "display_data"
    },
    {
     "name": "stdout",
     "output_type": "stream",
     "text": [
      "validation loss tensor(6.6091, dtype=torch.float64)\n",
      "validation loss tensor(6.2734, dtype=torch.float64)\n",
      "validation loss tensor(3.5859, dtype=torch.float64)\n",
      "validation loss tensor(4.1389, dtype=torch.float64)\n",
      "validation loss tensor(0.5248, dtype=torch.float64)\n",
      "tensor(4.2264, dtype=torch.float64)\n",
      "training loss tensor(3.2344, dtype=torch.float64, grad_fn=<MseLossBackward>)\n",
      "training loss tensor(1.7142, dtype=torch.float64, grad_fn=<MseLossBackward>)\n",
      "training loss tensor(1.9414, dtype=torch.float64, grad_fn=<MseLossBackward>)\n",
      "training loss tensor(2.8479, dtype=torch.float64, grad_fn=<MseLossBackward>)\n",
      "training loss tensor(1.9976, dtype=torch.float64, grad_fn=<MseLossBackward>)\n",
      "training loss tensor(1.8146, dtype=torch.float64, grad_fn=<MseLossBackward>)\n",
      "training loss tensor(2.5806, dtype=torch.float64, grad_fn=<MseLossBackward>)\n",
      "training loss tensor(1.4712, dtype=torch.float64, grad_fn=<MseLossBackward>)\n",
      "training loss tensor(2.5731, dtype=torch.float64, grad_fn=<MseLossBackward>)\n",
      "training loss tensor(2.7772, dtype=torch.float64, grad_fn=<MseLossBackward>)\n",
      "training loss tensor(1.7696, dtype=torch.float64, grad_fn=<MseLossBackward>)\n",
      "training loss tensor(2.1826, dtype=torch.float64, grad_fn=<MseLossBackward>)\n",
      "training loss tensor(1.2977, dtype=torch.float64, grad_fn=<MseLossBackward>)\n",
      "training loss tensor(1.9997, dtype=torch.float64, grad_fn=<MseLossBackward>)\n",
      "training loss tensor(3.1589, dtype=torch.float64, grad_fn=<MseLossBackward>)\n",
      "training loss tensor(1.4622, dtype=torch.float64, grad_fn=<MseLossBackward>)\n",
      "training loss tensor(2.0995, dtype=torch.float64, grad_fn=<MseLossBackward>)\n",
      "training loss tensor(1.9073, dtype=torch.float64, grad_fn=<MseLossBackward>)\n",
      "training loss tensor(3.1114, dtype=torch.float64, grad_fn=<MseLossBackward>)\n",
      "training loss tensor(1.5097, dtype=torch.float64, grad_fn=<MseLossBackward>)\n",
      "training loss tensor(2.7055, dtype=torch.float64, grad_fn=<MseLossBackward>)\n",
      "training loss tensor(2.2931, dtype=torch.float64, grad_fn=<MseLossBackward>)\n"
     ]
    },
    {
     "data": {
      "application/vnd.jupyter.widget-view+json": {
       "model_id": "",
       "version_major": 2,
       "version_minor": 0
      },
      "text/plain": [
       "HBox(children=(FloatProgress(value=1.0, bar_style='info', description='Validating', layout=Layout(flex='2'), m…"
      ]
     },
     "metadata": {},
     "output_type": "display_data"
    },
    {
     "name": "stdout",
     "output_type": "stream",
     "text": [
      "validation loss tensor(7.8883, dtype=torch.float64)\n",
      "validation loss tensor(5.5894, dtype=torch.float64)\n",
      "validation loss tensor(4.1506, dtype=torch.float64)\n",
      "validation loss tensor(3.7872, dtype=torch.float64)\n",
      "validation loss tensor(1.2491, dtype=torch.float64)\n",
      "tensor(4.5329, dtype=torch.float64)\n",
      "training loss tensor(2.1387, dtype=torch.float64, grad_fn=<MseLossBackward>)\n",
      "training loss tensor(2.9444, dtype=torch.float64, grad_fn=<MseLossBackward>)\n",
      "training loss tensor(2.5202, dtype=torch.float64, grad_fn=<MseLossBackward>)\n",
      "training loss tensor(1.3496, dtype=torch.float64, grad_fn=<MseLossBackward>)\n",
      "training loss tensor(1.4247, dtype=torch.float64, grad_fn=<MseLossBackward>)\n",
      "training loss tensor(1.0361, dtype=torch.float64, grad_fn=<MseLossBackward>)\n",
      "training loss tensor(3.4521, dtype=torch.float64, grad_fn=<MseLossBackward>)\n",
      "training loss tensor(3.6960, dtype=torch.float64, grad_fn=<MseLossBackward>)\n",
      "training loss tensor(1.7778, dtype=torch.float64, grad_fn=<MseLossBackward>)\n",
      "training loss tensor(1.7147, dtype=torch.float64, grad_fn=<MseLossBackward>)\n",
      "training loss tensor(2.4531, dtype=torch.float64, grad_fn=<MseLossBackward>)\n",
      "training loss tensor(1.9396, dtype=torch.float64, grad_fn=<MseLossBackward>)\n",
      "training loss tensor(1.2200, dtype=torch.float64, grad_fn=<MseLossBackward>)\n",
      "training loss tensor(1.7715, dtype=torch.float64, grad_fn=<MseLossBackward>)\n",
      "training loss tensor(1.2417, dtype=torch.float64, grad_fn=<MseLossBackward>)\n",
      "training loss tensor(2.4102, dtype=torch.float64, grad_fn=<MseLossBackward>)\n",
      "training loss tensor(2.4091, dtype=torch.float64, grad_fn=<MseLossBackward>)\n",
      "training loss tensor(2.0189, dtype=torch.float64, grad_fn=<MseLossBackward>)\n",
      "training loss tensor(1.2312, dtype=torch.float64, grad_fn=<MseLossBackward>)\n",
      "training loss tensor(3.4413, dtype=torch.float64, grad_fn=<MseLossBackward>)\n",
      "training loss tensor(1.9677, dtype=torch.float64, grad_fn=<MseLossBackward>)\n",
      "training loss tensor(1.0821, dtype=torch.float64, grad_fn=<MseLossBackward>)\n"
     ]
    },
    {
     "data": {
      "application/vnd.jupyter.widget-view+json": {
       "model_id": "",
       "version_major": 2,
       "version_minor": 0
      },
      "text/plain": [
       "HBox(children=(FloatProgress(value=1.0, bar_style='info', description='Validating', layout=Layout(flex='2'), m…"
      ]
     },
     "metadata": {},
     "output_type": "display_data"
    },
    {
     "name": "stdout",
     "output_type": "stream",
     "text": [
      "validation loss tensor(6.9730, dtype=torch.float64)\n",
      "validation loss tensor(5.3755, dtype=torch.float64)\n",
      "validation loss tensor(3.4931, dtype=torch.float64)\n",
      "validation loss tensor(3.6485, dtype=torch.float64)\n",
      "validation loss tensor(0.5133, dtype=torch.float64)\n",
      "tensor(4.0007, dtype=torch.float64)\n",
      "training loss tensor(1.4290, dtype=torch.float64, grad_fn=<MseLossBackward>)\n",
      "training loss tensor(2.1558, dtype=torch.float64, grad_fn=<MseLossBackward>)\n",
      "training loss tensor(2.3658, dtype=torch.float64, grad_fn=<MseLossBackward>)\n",
      "training loss tensor(1.4293, dtype=torch.float64, grad_fn=<MseLossBackward>)\n",
      "training loss tensor(1.7346, dtype=torch.float64, grad_fn=<MseLossBackward>)\n",
      "training loss tensor(1.7328, dtype=torch.float64, grad_fn=<MseLossBackward>)\n",
      "training loss tensor(1.2692, dtype=torch.float64, grad_fn=<MseLossBackward>)\n",
      "training loss tensor(2.2563, dtype=torch.float64, grad_fn=<MseLossBackward>)\n",
      "training loss tensor(1.1355, dtype=torch.float64, grad_fn=<MseLossBackward>)\n",
      "training loss tensor(0.9165, dtype=torch.float64, grad_fn=<MseLossBackward>)\n",
      "training loss tensor(1.1724, dtype=torch.float64, grad_fn=<MseLossBackward>)\n",
      "training loss tensor(1.3221, dtype=torch.float64, grad_fn=<MseLossBackward>)\n",
      "training loss tensor(2.4107, dtype=torch.float64, grad_fn=<MseLossBackward>)\n",
      "training loss tensor(1.5256, dtype=torch.float64, grad_fn=<MseLossBackward>)\n",
      "training loss tensor(1.5387, dtype=torch.float64, grad_fn=<MseLossBackward>)\n",
      "training loss tensor(1.8506, dtype=torch.float64, grad_fn=<MseLossBackward>)\n",
      "training loss tensor(1.2784, dtype=torch.float64, grad_fn=<MseLossBackward>)\n",
      "training loss tensor(2.3439, dtype=torch.float64, grad_fn=<MseLossBackward>)\n",
      "training loss tensor(2.6438, dtype=torch.float64, grad_fn=<MseLossBackward>)\n",
      "training loss tensor(1.9652, dtype=torch.float64, grad_fn=<MseLossBackward>)\n",
      "training loss tensor(1.7208, dtype=torch.float64, grad_fn=<MseLossBackward>)\n",
      "training loss tensor(2.2703, dtype=torch.float64, grad_fn=<MseLossBackward>)\n"
     ]
    },
    {
     "data": {
      "application/vnd.jupyter.widget-view+json": {
       "model_id": "",
       "version_major": 2,
       "version_minor": 0
      },
      "text/plain": [
       "HBox(children=(FloatProgress(value=1.0, bar_style='info', description='Validating', layout=Layout(flex='2'), m…"
      ]
     },
     "metadata": {},
     "output_type": "display_data"
    },
    {
     "name": "stdout",
     "output_type": "stream",
     "text": [
      "validation loss tensor(6.6800, dtype=torch.float64)\n",
      "validation loss tensor(5.3109, dtype=torch.float64)\n",
      "validation loss tensor(3.3262, dtype=torch.float64)\n",
      "validation loss tensor(3.6071, dtype=torch.float64)\n",
      "validation loss tensor(0.5080, dtype=torch.float64)\n",
      "tensor(3.8864, dtype=torch.float64)\n",
      "training loss tensor(0.8822, dtype=torch.float64, grad_fn=<MseLossBackward>)\n",
      "training loss tensor(1.8976, dtype=torch.float64, grad_fn=<MseLossBackward>)\n",
      "training loss tensor(3.3175, dtype=torch.float64, grad_fn=<MseLossBackward>)\n",
      "training loss tensor(2.0427, dtype=torch.float64, grad_fn=<MseLossBackward>)\n",
      "training loss tensor(1.8561, dtype=torch.float64, grad_fn=<MseLossBackward>)\n",
      "training loss tensor(1.6699, dtype=torch.float64, grad_fn=<MseLossBackward>)\n",
      "training loss tensor(0.7332, dtype=torch.float64, grad_fn=<MseLossBackward>)\n",
      "training loss tensor(0.8988, dtype=torch.float64, grad_fn=<MseLossBackward>)\n",
      "training loss tensor(1.4177, dtype=torch.float64, grad_fn=<MseLossBackward>)\n",
      "training loss tensor(1.5074, dtype=torch.float64, grad_fn=<MseLossBackward>)\n",
      "training loss tensor(1.4448, dtype=torch.float64, grad_fn=<MseLossBackward>)\n",
      "training loss tensor(1.4271, dtype=torch.float64, grad_fn=<MseLossBackward>)\n",
      "training loss tensor(2.2911, dtype=torch.float64, grad_fn=<MseLossBackward>)\n",
      "training loss tensor(1.5636, dtype=torch.float64, grad_fn=<MseLossBackward>)\n",
      "training loss tensor(1.1530, dtype=torch.float64, grad_fn=<MseLossBackward>)\n",
      "training loss tensor(1.0811, dtype=torch.float64, grad_fn=<MseLossBackward>)\n",
      "training loss tensor(1.6580, dtype=torch.float64, grad_fn=<MseLossBackward>)\n",
      "training loss tensor(2.3479, dtype=torch.float64, grad_fn=<MseLossBackward>)\n",
      "training loss tensor(1.1332, dtype=torch.float64, grad_fn=<MseLossBackward>)\n",
      "training loss tensor(1.2001, dtype=torch.float64, grad_fn=<MseLossBackward>)\n",
      "training loss tensor(1.4270, dtype=torch.float64, grad_fn=<MseLossBackward>)\n",
      "training loss tensor(1.6388, dtype=torch.float64, grad_fn=<MseLossBackward>)\n"
     ]
    },
    {
     "data": {
      "application/vnd.jupyter.widget-view+json": {
       "model_id": "",
       "version_major": 2,
       "version_minor": 0
      },
      "text/plain": [
       "HBox(children=(FloatProgress(value=1.0, bar_style='info', description='Validating', layout=Layout(flex='2'), m…"
      ]
     },
     "metadata": {},
     "output_type": "display_data"
    },
    {
     "name": "stdout",
     "output_type": "stream",
     "text": [
      "validation loss tensor(6.5357, dtype=torch.float64)\n",
      "validation loss tensor(5.4166, dtype=torch.float64)\n",
      "validation loss tensor(3.1683, dtype=torch.float64)\n",
      "validation loss tensor(3.6998, dtype=torch.float64)\n",
      "validation loss tensor(0.4963, dtype=torch.float64)\n",
      "tensor(3.8633, dtype=torch.float64)\n",
      "training loss tensor(1.0782, dtype=torch.float64, grad_fn=<MseLossBackward>)\n",
      "training loss tensor(1.1271, dtype=torch.float64, grad_fn=<MseLossBackward>)\n",
      "training loss tensor(1.7047, dtype=torch.float64, grad_fn=<MseLossBackward>)\n",
      "training loss tensor(1.6985, dtype=torch.float64, grad_fn=<MseLossBackward>)\n",
      "training loss tensor(1.6135, dtype=torch.float64, grad_fn=<MseLossBackward>)\n",
      "training loss tensor(1.7048, dtype=torch.float64, grad_fn=<MseLossBackward>)\n",
      "training loss tensor(1.8465, dtype=torch.float64, grad_fn=<MseLossBackward>)\n",
      "training loss tensor(1.1831, dtype=torch.float64, grad_fn=<MseLossBackward>)\n",
      "training loss tensor(1.8486, dtype=torch.float64, grad_fn=<MseLossBackward>)\n",
      "training loss tensor(1.0553, dtype=torch.float64, grad_fn=<MseLossBackward>)\n",
      "training loss tensor(1.2774, dtype=torch.float64, grad_fn=<MseLossBackward>)\n",
      "training loss tensor(0.7860, dtype=torch.float64, grad_fn=<MseLossBackward>)\n",
      "training loss tensor(0.7781, dtype=torch.float64, grad_fn=<MseLossBackward>)\n",
      "training loss tensor(1.8229, dtype=torch.float64, grad_fn=<MseLossBackward>)\n",
      "training loss tensor(1.0343, dtype=torch.float64, grad_fn=<MseLossBackward>)\n",
      "training loss tensor(1.3346, dtype=torch.float64, grad_fn=<MseLossBackward>)\n",
      "training loss tensor(1.3857, dtype=torch.float64, grad_fn=<MseLossBackward>)\n",
      "training loss tensor(2.0426, dtype=torch.float64, grad_fn=<MseLossBackward>)\n",
      "training loss tensor(1.7957, dtype=torch.float64, grad_fn=<MseLossBackward>)\n",
      "training loss tensor(1.9576, dtype=torch.float64, grad_fn=<MseLossBackward>)\n",
      "training loss tensor(0.9333, dtype=torch.float64, grad_fn=<MseLossBackward>)\n",
      "training loss tensor(1.0907, dtype=torch.float64, grad_fn=<MseLossBackward>)\n"
     ]
    },
    {
     "data": {
      "application/vnd.jupyter.widget-view+json": {
       "model_id": "",
       "version_major": 2,
       "version_minor": 0
      },
      "text/plain": [
       "HBox(children=(FloatProgress(value=1.0, bar_style='info', description='Validating', layout=Layout(flex='2'), m…"
      ]
     },
     "metadata": {},
     "output_type": "display_data"
    },
    {
     "name": "stdout",
     "output_type": "stream",
     "text": [
      "validation loss tensor(5.9854, dtype=torch.float64)\n",
      "validation loss tensor(4.6616, dtype=torch.float64)\n",
      "validation loss tensor(3.1712, dtype=torch.float64)\n",
      "validation loss tensor(3.2497, dtype=torch.float64)\n",
      "validation loss tensor(0.7480, dtype=torch.float64)\n",
      "tensor(3.5632, dtype=torch.float64)\n",
      "training loss tensor(1.0301, dtype=torch.float64, grad_fn=<MseLossBackward>)\n",
      "training loss tensor(1.1338, dtype=torch.float64, grad_fn=<MseLossBackward>)\n",
      "training loss tensor(0.6265, dtype=torch.float64, grad_fn=<MseLossBackward>)\n",
      "training loss tensor(1.4562, dtype=torch.float64, grad_fn=<MseLossBackward>)\n",
      "training loss tensor(1.3568, dtype=torch.float64, grad_fn=<MseLossBackward>)\n",
      "training loss tensor(1.4407, dtype=torch.float64, grad_fn=<MseLossBackward>)\n",
      "training loss tensor(1.1555, dtype=torch.float64, grad_fn=<MseLossBackward>)\n",
      "training loss tensor(0.8019, dtype=torch.float64, grad_fn=<MseLossBackward>)\n",
      "training loss tensor(1.2350, dtype=torch.float64, grad_fn=<MseLossBackward>)\n",
      "training loss tensor(1.4935, dtype=torch.float64, grad_fn=<MseLossBackward>)\n",
      "training loss tensor(0.7947, dtype=torch.float64, grad_fn=<MseLossBackward>)\n",
      "training loss tensor(0.8126, dtype=torch.float64, grad_fn=<MseLossBackward>)\n",
      "training loss tensor(0.9488, dtype=torch.float64, grad_fn=<MseLossBackward>)\n",
      "training loss tensor(1.0610, dtype=torch.float64, grad_fn=<MseLossBackward>)\n",
      "training loss tensor(1.9663, dtype=torch.float64, grad_fn=<MseLossBackward>)\n",
      "training loss tensor(0.5425, dtype=torch.float64, grad_fn=<MseLossBackward>)\n",
      "training loss tensor(1.6071, dtype=torch.float64, grad_fn=<MseLossBackward>)\n",
      "training loss tensor(0.7662, dtype=torch.float64, grad_fn=<MseLossBackward>)\n",
      "training loss tensor(1.5049, dtype=torch.float64, grad_fn=<MseLossBackward>)\n",
      "training loss tensor(1.8416, dtype=torch.float64, grad_fn=<MseLossBackward>)\n",
      "training loss tensor(1.0920, dtype=torch.float64, grad_fn=<MseLossBackward>)\n",
      "training loss tensor(1.6866, dtype=torch.float64, grad_fn=<MseLossBackward>)\n"
     ]
    },
    {
     "data": {
      "application/vnd.jupyter.widget-view+json": {
       "model_id": "",
       "version_major": 2,
       "version_minor": 0
      },
      "text/plain": [
       "HBox(children=(FloatProgress(value=1.0, bar_style='info', description='Validating', layout=Layout(flex='2'), m…"
      ]
     },
     "metadata": {},
     "output_type": "display_data"
    },
    {
     "name": "stdout",
     "output_type": "stream",
     "text": [
      "validation loss tensor(6.2362, dtype=torch.float64)\n",
      "validation loss tensor(4.8302, dtype=torch.float64)\n",
      "validation loss tensor(2.8945, dtype=torch.float64)\n",
      "validation loss tensor(3.4797, dtype=torch.float64)\n",
      "validation loss tensor(0.4915, dtype=torch.float64)\n",
      "tensor(3.5864, dtype=torch.float64)\n",
      "training loss tensor(1.6200, dtype=torch.float64, grad_fn=<MseLossBackward>)\n",
      "training loss tensor(1.2717, dtype=torch.float64, grad_fn=<MseLossBackward>)\n",
      "training loss tensor(0.9526, dtype=torch.float64, grad_fn=<MseLossBackward>)\n",
      "training loss tensor(1.2017, dtype=torch.float64, grad_fn=<MseLossBackward>)\n",
      "training loss tensor(1.9972, dtype=torch.float64, grad_fn=<MseLossBackward>)\n",
      "training loss tensor(0.5236, dtype=torch.float64, grad_fn=<MseLossBackward>)\n",
      "training loss tensor(1.2152, dtype=torch.float64, grad_fn=<MseLossBackward>)\n",
      "training loss tensor(1.0674, dtype=torch.float64, grad_fn=<MseLossBackward>)\n",
      "training loss tensor(0.6241, dtype=torch.float64, grad_fn=<MseLossBackward>)\n",
      "training loss tensor(1.2498, dtype=torch.float64, grad_fn=<MseLossBackward>)\n",
      "training loss tensor(1.1821, dtype=torch.float64, grad_fn=<MseLossBackward>)\n",
      "training loss tensor(0.8792, dtype=torch.float64, grad_fn=<MseLossBackward>)\n",
      "training loss tensor(1.0176, dtype=torch.float64, grad_fn=<MseLossBackward>)\n",
      "training loss tensor(1.1910, dtype=torch.float64, grad_fn=<MseLossBackward>)\n",
      "training loss tensor(0.9426, dtype=torch.float64, grad_fn=<MseLossBackward>)\n",
      "training loss tensor(0.9203, dtype=torch.float64, grad_fn=<MseLossBackward>)\n",
      "training loss tensor(0.7841, dtype=torch.float64, grad_fn=<MseLossBackward>)\n",
      "training loss tensor(0.6710, dtype=torch.float64, grad_fn=<MseLossBackward>)\n",
      "training loss tensor(0.9780, dtype=torch.float64, grad_fn=<MseLossBackward>)\n",
      "training loss tensor(0.8544, dtype=torch.float64, grad_fn=<MseLossBackward>)\n",
      "training loss tensor(1.1281, dtype=torch.float64, grad_fn=<MseLossBackward>)\n",
      "training loss tensor(1.6278, dtype=torch.float64, grad_fn=<MseLossBackward>)\n"
     ]
    },
    {
     "data": {
      "application/vnd.jupyter.widget-view+json": {
       "model_id": "",
       "version_major": 2,
       "version_minor": 0
      },
      "text/plain": [
       "HBox(children=(FloatProgress(value=1.0, bar_style='info', description='Validating', layout=Layout(flex='2'), m…"
      ]
     },
     "metadata": {},
     "output_type": "display_data"
    },
    {
     "name": "stdout",
     "output_type": "stream",
     "text": [
      "validation loss tensor(6.0536, dtype=torch.float64)\n",
      "validation loss tensor(4.9037, dtype=torch.float64)\n",
      "validation loss tensor(2.9860, dtype=torch.float64)\n",
      "validation loss tensor(3.3861, dtype=torch.float64)\n",
      "validation loss tensor(0.6717, dtype=torch.float64)\n",
      "tensor(3.6002, dtype=torch.float64)\n",
      "training loss tensor(0.6250, dtype=torch.float64, grad_fn=<MseLossBackward>)\n",
      "training loss tensor(0.3990, dtype=torch.float64, grad_fn=<MseLossBackward>)\n",
      "training loss tensor(1.0088, dtype=torch.float64, grad_fn=<MseLossBackward>)\n",
      "training loss tensor(0.6506, dtype=torch.float64, grad_fn=<MseLossBackward>)\n",
      "training loss tensor(1.2860, dtype=torch.float64, grad_fn=<MseLossBackward>)\n",
      "training loss tensor(0.9009, dtype=torch.float64, grad_fn=<MseLossBackward>)\n",
      "training loss tensor(1.3422, dtype=torch.float64, grad_fn=<MseLossBackward>)\n",
      "training loss tensor(0.7187, dtype=torch.float64, grad_fn=<MseLossBackward>)\n",
      "training loss tensor(0.6657, dtype=torch.float64, grad_fn=<MseLossBackward>)\n",
      "training loss tensor(0.4805, dtype=torch.float64, grad_fn=<MseLossBackward>)\n",
      "training loss tensor(0.8837, dtype=torch.float64, grad_fn=<MseLossBackward>)\n",
      "training loss tensor(1.0122, dtype=torch.float64, grad_fn=<MseLossBackward>)\n",
      "training loss tensor(0.9295, dtype=torch.float64, grad_fn=<MseLossBackward>)\n",
      "training loss tensor(1.3770, dtype=torch.float64, grad_fn=<MseLossBackward>)\n",
      "training loss tensor(1.1942, dtype=torch.float64, grad_fn=<MseLossBackward>)\n",
      "training loss tensor(0.8055, dtype=torch.float64, grad_fn=<MseLossBackward>)\n",
      "training loss tensor(0.4549, dtype=torch.float64, grad_fn=<MseLossBackward>)\n",
      "training loss tensor(1.3069, dtype=torch.float64, grad_fn=<MseLossBackward>)\n",
      "training loss tensor(0.9913, dtype=torch.float64, grad_fn=<MseLossBackward>)\n",
      "training loss tensor(0.8776, dtype=torch.float64, grad_fn=<MseLossBackward>)\n",
      "training loss tensor(1.7138, dtype=torch.float64, grad_fn=<MseLossBackward>)\n",
      "training loss tensor(1.0791, dtype=torch.float64, grad_fn=<MseLossBackward>)\n"
     ]
    },
    {
     "data": {
      "application/vnd.jupyter.widget-view+json": {
       "model_id": "",
       "version_major": 2,
       "version_minor": 0
      },
      "text/plain": [
       "HBox(children=(FloatProgress(value=1.0, bar_style='info', description='Validating', layout=Layout(flex='2'), m…"
      ]
     },
     "metadata": {},
     "output_type": "display_data"
    },
    {
     "name": "stdout",
     "output_type": "stream",
     "text": [
      "validation loss tensor(5.9513, dtype=torch.float64)\n",
      "validation loss tensor(4.8905, dtype=torch.float64)\n",
      "validation loss tensor(2.9166, dtype=torch.float64)\n",
      "validation loss tensor(3.4740, dtype=torch.float64)\n",
      "validation loss tensor(0.2650, dtype=torch.float64)\n",
      "tensor(3.4995, dtype=torch.float64)\n",
      "training loss tensor(1.0086, dtype=torch.float64, grad_fn=<MseLossBackward>)\n",
      "training loss tensor(1.2135, dtype=torch.float64, grad_fn=<MseLossBackward>)\n",
      "training loss tensor(0.6887, dtype=torch.float64, grad_fn=<MseLossBackward>)\n",
      "training loss tensor(1.1664, dtype=torch.float64, grad_fn=<MseLossBackward>)\n",
      "training loss tensor(0.6945, dtype=torch.float64, grad_fn=<MseLossBackward>)\n",
      "training loss tensor(0.4872, dtype=torch.float64, grad_fn=<MseLossBackward>)\n",
      "training loss tensor(0.5802, dtype=torch.float64, grad_fn=<MseLossBackward>)\n",
      "training loss tensor(0.7792, dtype=torch.float64, grad_fn=<MseLossBackward>)\n",
      "training loss tensor(0.8429, dtype=torch.float64, grad_fn=<MseLossBackward>)\n",
      "training loss tensor(0.3783, dtype=torch.float64, grad_fn=<MseLossBackward>)\n",
      "training loss tensor(0.9645, dtype=torch.float64, grad_fn=<MseLossBackward>)\n",
      "training loss tensor(0.6132, dtype=torch.float64, grad_fn=<MseLossBackward>)\n",
      "training loss tensor(0.7140, dtype=torch.float64, grad_fn=<MseLossBackward>)\n",
      "training loss tensor(0.8793, dtype=torch.float64, grad_fn=<MseLossBackward>)\n",
      "training loss tensor(1.4008, dtype=torch.float64, grad_fn=<MseLossBackward>)\n",
      "training loss tensor(1.3613, dtype=torch.float64, grad_fn=<MseLossBackward>)\n",
      "training loss tensor(0.5857, dtype=torch.float64, grad_fn=<MseLossBackward>)\n",
      "training loss tensor(0.9342, dtype=torch.float64, grad_fn=<MseLossBackward>)\n",
      "training loss tensor(0.6157, dtype=torch.float64, grad_fn=<MseLossBackward>)\n",
      "training loss tensor(0.9702, dtype=torch.float64, grad_fn=<MseLossBackward>)\n",
      "training loss tensor(1.0659, dtype=torch.float64, grad_fn=<MseLossBackward>)\n",
      "training loss tensor(0.7983, dtype=torch.float64, grad_fn=<MseLossBackward>)\n"
     ]
    },
    {
     "data": {
      "application/vnd.jupyter.widget-view+json": {
       "model_id": "",
       "version_major": 2,
       "version_minor": 0
      },
      "text/plain": [
       "HBox(children=(FloatProgress(value=1.0, bar_style='info', description='Validating', layout=Layout(flex='2'), m…"
      ]
     },
     "metadata": {},
     "output_type": "display_data"
    },
    {
     "name": "stdout",
     "output_type": "stream",
     "text": [
      "validation loss tensor(5.5843, dtype=torch.float64)\n",
      "validation loss tensor(4.6537, dtype=torch.float64)\n",
      "validation loss tensor(2.7832, dtype=torch.float64)\n",
      "validation loss tensor(3.2662, dtype=torch.float64)\n",
      "validation loss tensor(0.5145, dtype=torch.float64)\n",
      "tensor(3.3604, dtype=torch.float64)\n",
      "training loss tensor(0.3337, dtype=torch.float64, grad_fn=<MseLossBackward>)\n",
      "training loss tensor(0.7539, dtype=torch.float64, grad_fn=<MseLossBackward>)\n",
      "training loss tensor(0.7933, dtype=torch.float64, grad_fn=<MseLossBackward>)\n",
      "training loss tensor(0.7368, dtype=torch.float64, grad_fn=<MseLossBackward>)\n",
      "training loss tensor(0.6956, dtype=torch.float64, grad_fn=<MseLossBackward>)\n",
      "training loss tensor(0.8939, dtype=torch.float64, grad_fn=<MseLossBackward>)\n",
      "training loss tensor(0.4654, dtype=torch.float64, grad_fn=<MseLossBackward>)\n",
      "training loss tensor(0.7640, dtype=torch.float64, grad_fn=<MseLossBackward>)\n",
      "training loss tensor(1.1921, dtype=torch.float64, grad_fn=<MseLossBackward>)\n",
      "training loss tensor(0.9956, dtype=torch.float64, grad_fn=<MseLossBackward>)\n",
      "training loss tensor(0.8430, dtype=torch.float64, grad_fn=<MseLossBackward>)\n",
      "training loss tensor(0.6144, dtype=torch.float64, grad_fn=<MseLossBackward>)\n",
      "training loss tensor(1.0184, dtype=torch.float64, grad_fn=<MseLossBackward>)\n",
      "training loss tensor(0.4816, dtype=torch.float64, grad_fn=<MseLossBackward>)\n",
      "training loss tensor(0.4836, dtype=torch.float64, grad_fn=<MseLossBackward>)\n",
      "training loss tensor(0.5885, dtype=torch.float64, grad_fn=<MseLossBackward>)\n",
      "training loss tensor(0.6917, dtype=torch.float64, grad_fn=<MseLossBackward>)\n",
      "training loss tensor(0.8517, dtype=torch.float64, grad_fn=<MseLossBackward>)\n",
      "training loss tensor(0.7592, dtype=torch.float64, grad_fn=<MseLossBackward>)\n",
      "training loss tensor(1.6603, dtype=torch.float64, grad_fn=<MseLossBackward>)\n",
      "training loss tensor(0.8335, dtype=torch.float64, grad_fn=<MseLossBackward>)\n",
      "training loss tensor(0.6332, dtype=torch.float64, grad_fn=<MseLossBackward>)\n"
     ]
    },
    {
     "data": {
      "application/vnd.jupyter.widget-view+json": {
       "model_id": "",
       "version_major": 2,
       "version_minor": 0
      },
      "text/plain": [
       "HBox(children=(FloatProgress(value=1.0, bar_style='info', description='Validating', layout=Layout(flex='2'), m…"
      ]
     },
     "metadata": {},
     "output_type": "display_data"
    },
    {
     "name": "stdout",
     "output_type": "stream",
     "text": [
      "validation loss tensor(5.8212, dtype=torch.float64)\n",
      "validation loss tensor(4.6522, dtype=torch.float64)\n",
      "validation loss tensor(2.8100, dtype=torch.float64)\n",
      "validation loss tensor(3.5835, dtype=torch.float64)\n",
      "validation loss tensor(0.3918, dtype=torch.float64)\n",
      "tensor(3.4517, dtype=torch.float64)\n",
      "training loss tensor(0.8441, dtype=torch.float64, grad_fn=<MseLossBackward>)\n",
      "training loss tensor(0.6195, dtype=torch.float64, grad_fn=<MseLossBackward>)\n",
      "training loss tensor(1.2720, dtype=torch.float64, grad_fn=<MseLossBackward>)\n",
      "training loss tensor(0.5774, dtype=torch.float64, grad_fn=<MseLossBackward>)\n",
      "training loss tensor(0.5337, dtype=torch.float64, grad_fn=<MseLossBackward>)\n",
      "training loss tensor(0.6939, dtype=torch.float64, grad_fn=<MseLossBackward>)\n",
      "training loss tensor(0.9041, dtype=torch.float64, grad_fn=<MseLossBackward>)\n",
      "training loss tensor(0.7857, dtype=torch.float64, grad_fn=<MseLossBackward>)\n",
      "training loss tensor(1.0504, dtype=torch.float64, grad_fn=<MseLossBackward>)\n",
      "training loss tensor(0.6993, dtype=torch.float64, grad_fn=<MseLossBackward>)\n",
      "training loss tensor(0.6737, dtype=torch.float64, grad_fn=<MseLossBackward>)\n",
      "training loss tensor(0.8983, dtype=torch.float64, grad_fn=<MseLossBackward>)\n",
      "training loss tensor(0.4348, dtype=torch.float64, grad_fn=<MseLossBackward>)\n",
      "training loss tensor(0.6140, dtype=torch.float64, grad_fn=<MseLossBackward>)\n",
      "training loss tensor(0.9700, dtype=torch.float64, grad_fn=<MseLossBackward>)\n",
      "training loss tensor(0.4383, dtype=torch.float64, grad_fn=<MseLossBackward>)\n",
      "training loss tensor(0.8375, dtype=torch.float64, grad_fn=<MseLossBackward>)\n",
      "training loss tensor(0.6420, dtype=torch.float64, grad_fn=<MseLossBackward>)\n",
      "training loss tensor(0.8640, dtype=torch.float64, grad_fn=<MseLossBackward>)\n",
      "training loss tensor(0.2625, dtype=torch.float64, grad_fn=<MseLossBackward>)\n",
      "training loss tensor(0.6069, dtype=torch.float64, grad_fn=<MseLossBackward>)\n",
      "training loss tensor(0.3458, dtype=torch.float64, grad_fn=<MseLossBackward>)\n"
     ]
    },
    {
     "data": {
      "application/vnd.jupyter.widget-view+json": {
       "model_id": "",
       "version_major": 2,
       "version_minor": 0
      },
      "text/plain": [
       "HBox(children=(FloatProgress(value=1.0, bar_style='info', description='Validating', layout=Layout(flex='2'), m…"
      ]
     },
     "metadata": {},
     "output_type": "display_data"
    },
    {
     "name": "stdout",
     "output_type": "stream",
     "text": [
      "validation loss tensor(5.6882, dtype=torch.float64)\n",
      "validation loss tensor(4.5584, dtype=torch.float64)\n",
      "validation loss tensor(2.7237, dtype=torch.float64)\n",
      "validation loss tensor(3.1983, dtype=torch.float64)\n",
      "validation loss tensor(0.4445, dtype=torch.float64)\n",
      "tensor(3.3226, dtype=torch.float64)\n",
      "training loss tensor(1.0234, dtype=torch.float64, grad_fn=<MseLossBackward>)\n",
      "training loss tensor(1.0346, dtype=torch.float64, grad_fn=<MseLossBackward>)\n",
      "training loss tensor(0.2560, dtype=torch.float64, grad_fn=<MseLossBackward>)\n",
      "training loss tensor(0.4100, dtype=torch.float64, grad_fn=<MseLossBackward>)\n",
      "training loss tensor(0.4745, dtype=torch.float64, grad_fn=<MseLossBackward>)\n",
      "training loss tensor(0.8928, dtype=torch.float64, grad_fn=<MseLossBackward>)\n",
      "training loss tensor(0.5107, dtype=torch.float64, grad_fn=<MseLossBackward>)\n",
      "training loss tensor(0.5624, dtype=torch.float64, grad_fn=<MseLossBackward>)\n",
      "training loss tensor(0.4458, dtype=torch.float64, grad_fn=<MseLossBackward>)\n",
      "training loss tensor(0.6832, dtype=torch.float64, grad_fn=<MseLossBackward>)\n",
      "training loss tensor(0.7271, dtype=torch.float64, grad_fn=<MseLossBackward>)\n",
      "training loss tensor(0.9511, dtype=torch.float64, grad_fn=<MseLossBackward>)\n",
      "training loss tensor(0.2961, dtype=torch.float64, grad_fn=<MseLossBackward>)\n",
      "training loss tensor(0.3213, dtype=torch.float64, grad_fn=<MseLossBackward>)\n",
      "training loss tensor(0.6631, dtype=torch.float64, grad_fn=<MseLossBackward>)\n",
      "training loss tensor(0.8595, dtype=torch.float64, grad_fn=<MseLossBackward>)\n",
      "training loss tensor(0.5460, dtype=torch.float64, grad_fn=<MseLossBackward>)\n",
      "training loss tensor(0.5036, dtype=torch.float64, grad_fn=<MseLossBackward>)\n",
      "training loss tensor(0.9835, dtype=torch.float64, grad_fn=<MseLossBackward>)\n",
      "training loss tensor(0.4446, dtype=torch.float64, grad_fn=<MseLossBackward>)\n",
      "training loss tensor(0.8586, dtype=torch.float64, grad_fn=<MseLossBackward>)\n",
      "training loss tensor(0.4644, dtype=torch.float64, grad_fn=<MseLossBackward>)\n"
     ]
    },
    {
     "data": {
      "application/vnd.jupyter.widget-view+json": {
       "model_id": "",
       "version_major": 2,
       "version_minor": 0
      },
      "text/plain": [
       "HBox(children=(FloatProgress(value=1.0, bar_style='info', description='Validating', layout=Layout(flex='2'), m…"
      ]
     },
     "metadata": {},
     "output_type": "display_data"
    },
    {
     "name": "stdout",
     "output_type": "stream",
     "text": [
      "validation loss tensor(5.7216, dtype=torch.float64)\n",
      "validation loss tensor(4.2548, dtype=torch.float64)\n",
      "validation loss tensor(2.6586, dtype=torch.float64)\n",
      "validation loss tensor(2.9703, dtype=torch.float64)\n",
      "validation loss tensor(0.4864, dtype=torch.float64)\n",
      "tensor(3.2183, dtype=torch.float64)\n",
      "training loss tensor(0.3838, dtype=torch.float64, grad_fn=<MseLossBackward>)\n",
      "training loss tensor(0.4462, dtype=torch.float64, grad_fn=<MseLossBackward>)\n",
      "training loss tensor(0.4192, dtype=torch.float64, grad_fn=<MseLossBackward>)\n",
      "training loss tensor(0.3274, dtype=torch.float64, grad_fn=<MseLossBackward>)\n",
      "training loss tensor(0.6026, dtype=torch.float64, grad_fn=<MseLossBackward>)\n",
      "training loss tensor(0.5244, dtype=torch.float64, grad_fn=<MseLossBackward>)\n",
      "training loss tensor(0.6808, dtype=torch.float64, grad_fn=<MseLossBackward>)\n",
      "training loss tensor(0.3276, dtype=torch.float64, grad_fn=<MseLossBackward>)\n",
      "training loss tensor(0.2397, dtype=torch.float64, grad_fn=<MseLossBackward>)\n",
      "training loss tensor(0.6025, dtype=torch.float64, grad_fn=<MseLossBackward>)\n",
      "training loss tensor(0.6587, dtype=torch.float64, grad_fn=<MseLossBackward>)\n",
      "training loss tensor(1.2058, dtype=torch.float64, grad_fn=<MseLossBackward>)\n",
      "training loss tensor(0.6106, dtype=torch.float64, grad_fn=<MseLossBackward>)\n",
      "training loss tensor(0.4179, dtype=torch.float64, grad_fn=<MseLossBackward>)\n",
      "training loss tensor(0.3360, dtype=torch.float64, grad_fn=<MseLossBackward>)\n",
      "training loss tensor(0.5867, dtype=torch.float64, grad_fn=<MseLossBackward>)\n",
      "training loss tensor(1.1207, dtype=torch.float64, grad_fn=<MseLossBackward>)\n",
      "training loss tensor(0.6553, dtype=torch.float64, grad_fn=<MseLossBackward>)\n",
      "training loss tensor(0.8996, dtype=torch.float64, grad_fn=<MseLossBackward>)\n",
      "training loss tensor(0.4102, dtype=torch.float64, grad_fn=<MseLossBackward>)\n",
      "training loss tensor(0.3582, dtype=torch.float64, grad_fn=<MseLossBackward>)\n",
      "training loss tensor(0.3816, dtype=torch.float64, grad_fn=<MseLossBackward>)\n"
     ]
    },
    {
     "data": {
      "application/vnd.jupyter.widget-view+json": {
       "model_id": "",
       "version_major": 2,
       "version_minor": 0
      },
      "text/plain": [
       "HBox(children=(FloatProgress(value=1.0, bar_style='info', description='Validating', layout=Layout(flex='2'), m…"
      ]
     },
     "metadata": {},
     "output_type": "display_data"
    },
    {
     "name": "stdout",
     "output_type": "stream",
     "text": [
      "validation loss tensor(5.7176, dtype=torch.float64)\n",
      "validation loss tensor(4.4609, dtype=torch.float64)\n",
      "validation loss tensor(2.7577, dtype=torch.float64)\n",
      "validation loss tensor(3.2899, dtype=torch.float64)\n",
      "validation loss tensor(0.3200, dtype=torch.float64)\n",
      "tensor(3.3092, dtype=torch.float64)\n",
      "training loss tensor(0.5901, dtype=torch.float64, grad_fn=<MseLossBackward>)\n",
      "training loss tensor(0.2467, dtype=torch.float64, grad_fn=<MseLossBackward>)\n",
      "training loss tensor(0.7623, dtype=torch.float64, grad_fn=<MseLossBackward>)\n",
      "training loss tensor(0.6845, dtype=torch.float64, grad_fn=<MseLossBackward>)\n",
      "training loss tensor(0.3180, dtype=torch.float64, grad_fn=<MseLossBackward>)\n",
      "training loss tensor(0.4141, dtype=torch.float64, grad_fn=<MseLossBackward>)\n",
      "training loss tensor(0.8044, dtype=torch.float64, grad_fn=<MseLossBackward>)\n",
      "training loss tensor(0.3879, dtype=torch.float64, grad_fn=<MseLossBackward>)\n",
      "training loss tensor(0.2476, dtype=torch.float64, grad_fn=<MseLossBackward>)\n",
      "training loss tensor(0.5497, dtype=torch.float64, grad_fn=<MseLossBackward>)\n",
      "training loss tensor(0.3907, dtype=torch.float64, grad_fn=<MseLossBackward>)\n",
      "training loss tensor(0.3661, dtype=torch.float64, grad_fn=<MseLossBackward>)\n",
      "training loss tensor(0.5495, dtype=torch.float64, grad_fn=<MseLossBackward>)\n",
      "training loss tensor(0.4235, dtype=torch.float64, grad_fn=<MseLossBackward>)\n",
      "training loss tensor(0.3730, dtype=torch.float64, grad_fn=<MseLossBackward>)\n",
      "training loss tensor(0.5706, dtype=torch.float64, grad_fn=<MseLossBackward>)\n",
      "training loss tensor(0.3633, dtype=torch.float64, grad_fn=<MseLossBackward>)\n",
      "training loss tensor(0.4880, dtype=torch.float64, grad_fn=<MseLossBackward>)\n",
      "training loss tensor(0.5266, dtype=torch.float64, grad_fn=<MseLossBackward>)\n",
      "training loss tensor(0.3510, dtype=torch.float64, grad_fn=<MseLossBackward>)\n",
      "training loss tensor(1.0379, dtype=torch.float64, grad_fn=<MseLossBackward>)\n",
      "training loss tensor(0.5304, dtype=torch.float64, grad_fn=<MseLossBackward>)\n"
     ]
    },
    {
     "data": {
      "application/vnd.jupyter.widget-view+json": {
       "model_id": "",
       "version_major": 2,
       "version_minor": 0
      },
      "text/plain": [
       "HBox(children=(FloatProgress(value=1.0, bar_style='info', description='Validating', layout=Layout(flex='2'), m…"
      ]
     },
     "metadata": {},
     "output_type": "display_data"
    },
    {
     "name": "stdout",
     "output_type": "stream",
     "text": [
      "validation loss tensor(5.7288, dtype=torch.float64)\n",
      "validation loss tensor(4.3720, dtype=torch.float64)\n",
      "validation loss tensor(2.7342, dtype=torch.float64)\n",
      "validation loss tensor(3.0915, dtype=torch.float64)\n",
      "validation loss tensor(0.4672, dtype=torch.float64)\n",
      "tensor(3.2787, dtype=torch.float64)\n",
      "training loss tensor(0.3427, dtype=torch.float64, grad_fn=<MseLossBackward>)\n",
      "training loss tensor(0.6122, dtype=torch.float64, grad_fn=<MseLossBackward>)\n",
      "training loss tensor(0.3527, dtype=torch.float64, grad_fn=<MseLossBackward>)\n",
      "training loss tensor(0.2620, dtype=torch.float64, grad_fn=<MseLossBackward>)\n",
      "training loss tensor(0.6174, dtype=torch.float64, grad_fn=<MseLossBackward>)\n",
      "training loss tensor(0.3212, dtype=torch.float64, grad_fn=<MseLossBackward>)\n",
      "training loss tensor(0.3518, dtype=torch.float64, grad_fn=<MseLossBackward>)\n",
      "training loss tensor(0.2794, dtype=torch.float64, grad_fn=<MseLossBackward>)\n",
      "training loss tensor(0.5970, dtype=torch.float64, grad_fn=<MseLossBackward>)\n",
      "training loss tensor(0.6364, dtype=torch.float64, grad_fn=<MseLossBackward>)\n",
      "training loss tensor(0.4219, dtype=torch.float64, grad_fn=<MseLossBackward>)\n",
      "training loss tensor(0.9216, dtype=torch.float64, grad_fn=<MseLossBackward>)\n",
      "training loss tensor(0.4868, dtype=torch.float64, grad_fn=<MseLossBackward>)\n",
      "training loss tensor(0.5105, dtype=torch.float64, grad_fn=<MseLossBackward>)\n",
      "training loss tensor(0.3145, dtype=torch.float64, grad_fn=<MseLossBackward>)\n",
      "training loss tensor(0.4610, dtype=torch.float64, grad_fn=<MseLossBackward>)\n",
      "training loss tensor(0.4331, dtype=torch.float64, grad_fn=<MseLossBackward>)\n",
      "training loss tensor(0.8158, dtype=torch.float64, grad_fn=<MseLossBackward>)\n",
      "training loss tensor(0.4366, dtype=torch.float64, grad_fn=<MseLossBackward>)\n",
      "training loss tensor(0.6958, dtype=torch.float64, grad_fn=<MseLossBackward>)\n",
      "training loss tensor(0.1638, dtype=torch.float64, grad_fn=<MseLossBackward>)\n",
      "training loss tensor(0.4220, dtype=torch.float64, grad_fn=<MseLossBackward>)\n"
     ]
    },
    {
     "data": {
      "application/vnd.jupyter.widget-view+json": {
       "model_id": "",
       "version_major": 2,
       "version_minor": 0
      },
      "text/plain": [
       "HBox(children=(FloatProgress(value=1.0, bar_style='info', description='Validating', layout=Layout(flex='2'), m…"
      ]
     },
     "metadata": {},
     "output_type": "display_data"
    },
    {
     "name": "stdout",
     "output_type": "stream",
     "text": [
      "validation loss tensor(6.0549, dtype=torch.float64)\n",
      "validation loss tensor(4.3174, dtype=torch.float64)\n",
      "validation loss tensor(2.7775, dtype=torch.float64)\n",
      "validation loss tensor(3.2600, dtype=torch.float64)\n",
      "validation loss tensor(0.4343, dtype=torch.float64)\n",
      "tensor(3.3688, dtype=torch.float64)\n",
      "\n"
     ]
    },
    {
     "data": {
      "text/plain": [
       "1"
      ]
     },
     "execution_count": 12,
     "metadata": {},
     "output_type": "execute_result"
    }
   ],
   "source": [
    "import pytorch_lightning as pl\n",
    "\n",
    "steer_model = SteerNN(hparams, train_dataset, val_dataset)\n",
    "\n",
    "\n",
    "trainer = pl.Trainer(\n",
    "    weights_summary=None,\n",
    "    max_epochs=25,\n",
    "    progress_bar_refresh_rate=1, # to prevent notebook crashes in Google Colab environments    \n",
    ")\n",
    "\n",
    "trainer.fit(steer_model)"
   ]
  },
  {
   "cell_type": "code",
   "execution_count": 15,
   "metadata": {},
   "outputs": [
    {
     "name": "stdout",
     "output_type": "stream",
     "text": [
      "0.031213587149977684\n",
      "0.02858242\n"
     ]
    }
   ],
   "source": [
    "#test with one image after training\n",
    "steer_test = steer_model(list_of_image_data[1000]['image'])/100\n",
    "steer_test = float(steer_test)\n",
    "print(steer_test)\n",
    "print(list_of_image_data[1000]['steer']/100)"
   ]
  },
  {
   "cell_type": "code",
   "execution_count": 16,
   "metadata": {},
   "outputs": [],
   "source": [
    "PATH = 'models/depth_camera.p'\n",
    "torch.save(steer_model.state_dict(),PATH)"
   ]
  },
  {
   "cell_type": "code",
   "execution_count": 18,
   "metadata": {},
   "outputs": [
    {
     "name": "stdout",
     "output_type": "stream",
     "text": [
      "tensor([[0.0312]], grad_fn=<DivBackward0>)\n",
      "0.02858242\n"
     ]
    }
   ],
   "source": [
    "PATH = 'models/depth_camera.p'\n",
    "steer_model2 = SteerNN(None)\n",
    "steer_model2.load_state_dict(torch.load(PATH))\n",
    "print(steer_model2(list_of_image_data[1000]['image'])/100)\n",
    "print(list_of_image_data[1000]['steer']/100)"
   ]
  },
  {
   "cell_type": "code",
   "execution_count": null,
   "metadata": {},
   "outputs": [],
   "source": []
  }
 ],
 "metadata": {
  "kernelspec": {
   "display_name": "Python 3",
   "language": "python",
   "name": "python3"
  },
  "language_info": {
   "codemirror_mode": {
    "name": "ipython",
    "version": 3
   },
   "file_extension": ".py",
   "mimetype": "text/x-python",
   "name": "python",
   "nbconvert_exporter": "python",
   "pygments_lexer": "ipython3",
   "version": "3.7.11"
  }
 },
 "nbformat": 4,
 "nbformat_minor": 4
}
